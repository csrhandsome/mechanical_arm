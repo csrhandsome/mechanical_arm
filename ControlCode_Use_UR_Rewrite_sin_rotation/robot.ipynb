{
 "cells": [
  {
   "cell_type": "code",
   "execution_count": 1,
   "metadata": {},
   "outputs": [],
   "source": [
    "import yaml\n",
    "import rtde_control\n",
    "import rtde_io\n",
    "import rtde_receive\n",
    "import math\n",
    "import multiprocessing\n",
    "import threading\n",
    "import time\n",
    "\n",
    "import multiprocessing as mp\n",
    "import numpy as np\n",
    "# from ControlCode.ReadOnrobot import OnRobotFT\n",
    "from scipy import signal\n",
    "import os\n",
    "import queue\n",
    "from URClient import RobotClient\n",
    "from scipy.spatial.transform import Rotation as Rt"
   ]
  },
  {
   "cell_type": "code",
   "execution_count": 1,
   "metadata": {},
   "outputs": [
    {
     "name": "stdout",
     "output_type": "stream",
     "text": [
      "4.6.0\n",
      "当前工作目录: /home/kevin/soft_fingers/Weld_sin_Use_UR_with_rotation/ControlCode_Use_UR_Rewrite_sin_rotation\n"
     ]
    }
   ],
   "source": [
    "import cv2\n",
    "print(cv2.__version__)\n",
    "import os\n",
    "print(\"当前工作目录:\", os.getcwd())\n"
   ]
  },
  {
   "cell_type": "code",
   "execution_count": 2,
   "metadata": {},
   "outputs": [],
   "source": [
    "rtde_r = rtde_receive.RTDEReceiveInterface(\"192.168.1.10\")  \n",
    "# rtde_c = rtde_control.RTDEControlInterface(\"192.168.1.10\")"
   ]
  },
  {
   "cell_type": "code",
   "execution_count": 3,
   "metadata": {},
   "outputs": [
    {
     "name": "stdout",
     "output_type": "stream",
     "text": [
      "joint [1.6351871490478516, -1.6683579883971156, 2.0772021452533167, -1.9796635113158167, 4.712009906768799, 3.206814765930176]\n",
      "tcp_pose [0.21217392587223685, -0.5717708176340873, 0.44759263349762946, 3.141585818982255, 9.786553697919365e-06, -7.679399785291512e-06]\n"
     ]
    }
   ],
   "source": [
    "# actual_q = rtde_r.getActualQ()\n",
    "# print(actual_q)\n",
    "\n",
    "actual_z = rtde_r.getActualQ()\n",
    "print('joint', actual_z)\n",
    "\n",
    "actual_tcp = rtde_r.getActualTCPPose()\n",
    "print('tcp_pose', actual_tcp)"
   ]
  },
  {
   "cell_type": "code",
   "execution_count": null,
   "metadata": {},
   "outputs": [],
   "source": []
  },
  {
   "cell_type": "code",
   "execution_count": 3,
   "metadata": {},
   "outputs": [],
   "source": [
    "# rtde_r.disconnect()\n",
    "rtde_c = rtde_control.RTDEControlInterface(\"192.168.1.10\")"
   ]
  },
  {
   "cell_type": "code",
   "execution_count": 6,
   "metadata": {},
   "outputs": [
    {
     "data": {
      "text/plain": [
       "True"
      ]
     },
     "execution_count": 6,
     "metadata": {},
     "output_type": "execute_result"
    }
   ],
   "source": [
    "rtde_c.moveL([0.05773518445868354, -0.5584435071851914, 0.4571656935728142, -0, -3.1355851226187834, 0.0], 0.5, 0.5)"
   ]
  },
  {
   "cell_type": "code",
   "execution_count": 8,
   "metadata": {},
   "outputs": [],
   "source": [
    "# Q_joint = [1.6538190841674805,\n",
    "#                -0.9526007932475586,\n",
    "#                1.6189902464496058,\n",
    "#                4.046006842250488,\n",
    "#                4.710605621337891,\n",
    "#                2.4786343574523926]\n",
    "Q_joint = [1.49882173538208, -1.2290848058513184, 2.156137768422262, -2.5010653934874476, 4.708913803100586, 0.02007436752319336]"
   ]
  },
  {
   "cell_type": "code",
   "execution_count": 9,
   "metadata": {},
   "outputs": [
    {
     "data": {
      "text/plain": [
       "True"
      ]
     },
     "execution_count": 9,
     "metadata": {},
     "output_type": "execute_result"
    },
    {
     "name": "stdout",
     "output_type": "stream",
     "text": [
      "Reconnecting...\n"
     ]
    },
    {
     "name": "stderr",
     "output_type": "stream",
     "text": [
      "RTDEControlInterface: Could not receive data from robot...\n",
      "RTDEControlInterface Exception: Operation canceled\n",
      "RTDEControlInterface: Robot is disconnected, reconnecting...\n",
      "RTDEReceiveInterface Exception: Operation canceled\n"
     ]
    },
    {
     "name": "stdout",
     "output_type": "stream",
     "text": [
      "Dashboard client deadline expired\n"
     ]
    },
    {
     "name": "stderr",
     "output_type": "stream",
     "text": [
      "RTDEControlInterface Exception: Timeout connecting to UR dashboard server.\n"
     ]
    }
   ],
   "source": [
    "rtde_c.moveJ(Q_joint, 0.1, 0.5)"
   ]
  },
  {
   "cell_type": "code",
   "execution_count": 5,
   "metadata": {},
   "outputs": [
    {
     "data": {
      "text/plain": [
       "True"
      ]
     },
     "execution_count": 5,
     "metadata": {},
     "output_type": "execute_result"
    }
   ],
   "source": [
    "rtde_c.moveL([0.12618850233671242, -0.6789442619577591, 0.18572743088465688, -0.14327025779278377, -3.1356083761281854, 0.004885750257514762], 0.1, 0.5)"
   ]
  }
 ],
 "metadata": {
  "kernelspec": {
   "display_name": "soft_finger",
   "language": "python",
   "name": "python3"
  },
  "language_info": {
   "codemirror_mode": {
    "name": "ipython",
    "version": 3
   },
   "file_extension": ".py",
   "mimetype": "text/x-python",
   "name": "python",
   "nbconvert_exporter": "python",
   "pygments_lexer": "ipython3",
   "version": "3.1.undefined"
  }
 },
 "nbformat": 4,
 "nbformat_minor": 2
}
