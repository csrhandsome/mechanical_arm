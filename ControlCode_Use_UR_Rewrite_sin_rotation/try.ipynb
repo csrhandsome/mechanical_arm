{
 "cells": [
  {
   "cell_type": "code",
   "execution_count": 2,
   "metadata": {},
   "outputs": [
    {
     "name": "stdout",
     "output_type": "stream",
     "text": [
      "4.9.0\n"
     ]
    }
   ],
   "source": [
    "import cv2\n",
    "print(cv2.__version__)"
   ]
  },
  {
   "cell_type": "code",
   "execution_count": null,
   "metadata": {},
   "outputs": [],
   "source": [
    "pip list | grep opencv"
   ]
  },
  {
   "cell_type": "code",
   "execution_count": 5,
   "metadata": {},
   "outputs": [
    {
     "name": "stdout",
     "output_type": "stream",
     "text": [
      "camera open\n",
      "True\n",
      "True camera id:\n",
      "(480, 640, 3)\n"
     ]
    }
   ],
   "source": [
    "# for i in range(1, 8):\n",
    "cap = cv2.VideoCapture(1)\n",
    "if cap.isOpened():\n",
    "    print( 'camera open')\n",
    "    ret, img = cap.read()\n",
    "    print(ret)\n",
    "    # if not ret:\n",
    "    #     continue\n",
    "    # else:\n",
    "    print(ret, \"camera id:\")\n",
    "    print(img.shape)\n",
    "#\n",
    "\n",
    "    cv2.imshow('5', img)\n",
    "    cv2.waitKey(10)\n",
    "    cap.release()\n",
    "    cv2.destroyAllWindows()\n",
    "    # break"
   ]
  },
  {
   "cell_type": "code",
   "execution_count": 7,
   "metadata": {},
   "outputs": [
    {
     "name": "stdout",
     "output_type": "stream",
     "text": [
      "30.0\n",
      "(640, 480)\n"
     ]
    }
   ],
   "source": [
    "\n",
    "video = cv2.VideoCapture(1)\n",
    "fps = video.get(cv2.CAP_PROP_FPS)\n",
    "print(fps)\n",
    "size = (int(video.get(cv2.CAP_PROP_FRAME_WIDTH)), int(video.get(cv2.CAP_PROP_FRAME_HEIGHT)))\n",
    "print(size)\n",
    "# while True:\n",
    "ret, frame = video.read()\n",
    "cv2.imshow(\"A video\", frame)\n",
    "c = cv2.waitKey(1)\n",
    "# if c == 27:\n",
    "        # break\n",
    "video.release()\n",
    "cv2.destroyAllWindows()\n"
   ]
  }
 ],
 "metadata": {
  "kernelspec": {
   "display_name": "Python 3",
   "language": "python",
   "name": "python3"
  },
  "language_info": {
   "codemirror_mode": {
    "name": "ipython",
    "version": 3
   },
   "file_extension": ".py",
   "mimetype": "text/x-python",
   "name": "python",
   "nbconvert_exporter": "python",
   "pygments_lexer": "ipython3",
   "version": "3.12.3"
  }
 },
 "nbformat": 4,
 "nbformat_minor": 2
}
