{
 "cells": [
  {
   "cell_type": "code",
   "execution_count": 11,
   "metadata": {},
   "outputs": [
    {
     "name": "stdout",
     "output_type": "stream",
     "text": [
      "4.6.0\n",
      "当前工作目录: d:\\vscodeproject\\soft_fingers\\Weld_sin_Use_UR_with_rotation\\ControlCode_Use_UR_Rewrite_sin_rotation\n"
     ]
    }
   ],
   "source": [
    "import cv2\n",
    "print(cv2.__version__)\n",
    "import os\n",
    "print(\"当前工作目录:\", os.getcwd())\n",
    "\n"
   ]
  },
  {
   "cell_type": "code",
   "execution_count": null,
   "metadata": {},
   "outputs": [],
   "source": [
    "for i in range(0, 8):\n",
    "    cap = cv2.VideoCapture(i)\n",
    "    if cap.isOpened():\n",
    "        print( 'camera open')\n",
    "        while True:\n",
    "            ret, img = cap.read()\n",
    "            print(ret)\n",
    "            if not ret:\n",
    "                continue\n",
    "            else:\n",
    "                print(ret, \"camera id:\")\n",
    "                print(img.shape)\n",
    "            #\n",
    "\n",
    "                cv2.imshow('5', img)\n",
    "                cv2.waitKey(10)\n",
    "                c = cv2.waitKey(1000)\n",
    "                if c == 27:\n",
    "                        break\n",
    "                cap.set(cv2.CAP_PROP_FPS, 330)\n",
    "                cv2.destroyAllWindows()\n",
    "    cap.release()\n",
    "    cv2.destroyAllWindows()\n",
    "    # break"
   ]
  },
  {
   "cell_type": "code",
   "execution_count": 20,
   "metadata": {},
   "outputs": [
    {
     "name": "stdout",
     "output_type": "stream",
     "text": [
      "30.0\n",
      "(640, 480)\n"
     ]
    }
   ],
   "source": [
    "\n",
    "video = cv2.VideoCapture(1)\n",
    "fps = video.get(cv2.CAP_PROP_FPS)\n",
    "print(fps)\n",
    "size = (int(video.get(cv2.CAP_PROP_FRAME_WIDTH)), int(video.get(cv2.CAP_PROP_FRAME_HEIGHT)))\n",
    "print(size)\n",
    "while True:\n",
    "        ret, frame = video.read()\n",
    "        cv2.imshow(\"A video\", frame)\n",
    "        c = cv2.waitKey(1000)\n",
    "        if c == 27:\n",
    "                break\n",
    "video.release()\n",
    "cv2.destroyAllWindows()\n"
   ]
  },
  {
   "cell_type": "code",
   "execution_count": 1,
   "metadata": {},
   "outputs": [],
   "source": [
    "from cv2 import aruco\n",
    "import cv2\n",
    "import cv2.aruco as aruco"
   ]
  },
  {
   "cell_type": "code",
   "execution_count": 21,
   "metadata": {},
   "outputs": [],
   "source": [
    "# 创建 4X4_100 字典\n",
    "aruco_dict = aruco.Dictionary_get(aruco.DICT_4X4_250)\n",
    "\n",
    "# 生成一个 ID 为 42 的 ArUco 标记\n",
    "marker_id = 30\n",
    "marker_size = 200  # 标记的尺寸（以像素为单位）\n",
    "marker_image = aruco.drawMarker(aruco_dict, marker_id, marker_size)\n"
   ]
  },
  {
   "cell_type": "code",
   "execution_count": 22,
   "metadata": {},
   "outputs": [],
   "source": [
    "cv2.imshow('ArUco Marker', marker_image)\n",
    "cv2.waitKey(0)\n",
    "cv2.destroyAllWindows()\n"
   ]
  },
  {
   "cell_type": "code",
   "execution_count": 10,
   "metadata": {},
   "outputs": [],
   "source": [
    "# print(aruco_dict)\n",
    "# print(aruco.DICT_4X4_100)\n",
    "import cv2, os, yaml\n",
    "import pandas as pd\n",
    "config = yaml.load(open('./controller_config.yaml'), Loader=yaml.FullLoader)"
   ]
  },
  {
   "cell_type": "code",
   "execution_count": 2,
   "metadata": {},
   "outputs": [
    {
     "name": "stdout",
     "output_type": "stream",
     "text": [
      "队列已满，无法添加新的图像\n",
      "队列已满，无法添加新的图像\n",
      "队列已满，无法添加新的图像\n",
      "队列已满，无法添加新的图像\n",
      "队列已满，无法添加新的图像\n",
      "ImgQue size: 100\n",
      "程序未崩溃，继续运行\n"
     ]
    }
   ],
   "source": [
    "import numpy as np\n",
    "import time\n",
    "from queue import LifoQueue, Full\n",
    "\n",
    "class GetFingerForce:\n",
    "    def __init__(self, tag_pose_vecs):\n",
    "        self.p0 = np.mean(tag_pose_vecs[:, :], axis=0)\n",
    "        # 取均值\n",
    "        self.dpLast = np.zeros([6])\n",
    "        self.dp = np.zeros([12])\n",
    "        self.ImgQue = LifoQueue(100)\n",
    "        # 后进先出队列，最新的图像会被最先处理\n",
    "        self.StopImgRead = LifoQueue(1000)\n",
    "\n",
    "        self.Pose = np.zeros(0)\n",
    "        self.LastTime = time.time()\n",
    "\n",
    "    def add_image(self, img):\n",
    "        try:\n",
    "            self.ImgQue.put(img, block=False)\n",
    "        except Full:\n",
    "            print(\"队列已满，无法添加新的图像\")\n",
    "\n",
    "# 示例用法\n",
    "tag_pose_vecs = np.random.rand(10, 3)  # 示例数据\n",
    "get_finger_force = GetFingerForce(tag_pose_vecs)\n",
    "\n",
    "# 尝试添加一些图像到队列中\n",
    "for _ in range(105):  # 尝试添加超过队列容量的图像\n",
    "    img = np.random.rand(640, 480, 3)  # 示例图像数据\n",
    "    get_finger_force.add_image(img)\n",
    "\n",
    "print(\"ImgQue size:\", get_finger_force.ImgQue.qsize())\n",
    "print(\"程序未崩溃，继续运行\")"
   ]
  }
 ],
 "metadata": {
  "kernelspec": {
   "display_name": "Python 3",
   "language": "python",
   "name": "python3"
  },
  "language_info": {
   "codemirror_mode": {
    "name": "ipython",
    "version": 3
   },
   "file_extension": ".py",
   "mimetype": "text/x-python",
   "name": "python",
   "nbconvert_exporter": "python",
   "pygments_lexer": "ipython3",
   "version": "3.12.3"
  }
 },
 "nbformat": 4,
 "nbformat_minor": 2
}
